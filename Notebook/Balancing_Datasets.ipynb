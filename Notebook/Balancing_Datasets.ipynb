{
  "nbformat": 4,
  "nbformat_minor": 0,
  "metadata": {
    "colab": {
      "provenance": []
    },
    "kernelspec": {
      "name": "python3",
      "display_name": "Python 3"
    },
    "language_info": {
      "name": "python"
    }
  },
  "cells": [
    {
      "cell_type": "code",
      "execution_count": null,
      "metadata": {
        "colab": {
          "base_uri": "https://localhost:8080/"
        },
        "id": "X4Zw88UYN4FN",
        "outputId": "6b19162a-7778-45ac-d439-e69ce961355d"
      },
      "outputs": [
        {
          "output_type": "stream",
          "name": "stdout",
          "text": [
            "Drive already mounted at /content/drive; to attempt to forcibly remount, call drive.mount(\"/content/drive\", force_remount=True).\n"
          ]
        }
      ],
      "source": [
        "from google.colab import drive\n",
        "drive.mount('/content/drive')"
      ]
    },
    {
      "cell_type": "code",
      "source": [
        "import pandas as pd\n",
        "import numpy as np\n",
        "import imblearn as imb\n",
        "import sklearn\n",
        "from sklearn.model_selection import train_test_split"
      ],
      "metadata": {
        "id": "6Xfoe4POWzaw"
      },
      "execution_count": null,
      "outputs": []
    },
    {
      "cell_type": "markdown",
      "source": [
        "# Oversampling and Undersampling via Random Sampling"
      ],
      "metadata": {
        "id": "PCGCsPuWN7Uz"
      }
    },
    {
      "cell_type": "markdown",
      "source": [
        "## Electronics Dataset"
      ],
      "metadata": {
        "id": "RrhF9PtHOB4F"
      }
    },
    {
      "cell_type": "code",
      "source": [
        "folder_path = '/content/drive/My Drive/266_project/data/Electronics_data.csv'"
      ],
      "metadata": {
        "id": "Bw5OGKjPOBD4"
      },
      "execution_count": null,
      "outputs": []
    },
    {
      "cell_type": "code",
      "source": [
        "df = pd.read_csv(folder_path)\n",
        "stripped_df = df.drop(columns=['vote', 'verified', 'reviewTime', 'reviewerID', 'asin','reviewerName'])\n",
        "stripped_df = stripped_df.dropna()\n",
        "stripped_df['reviewLength'] = stripped_df['reviewText'].apply(lambda x: len(x.split()))\n",
        "stripped_df = stripped_df[stripped_df['reviewLength'] > 1]\n",
        "stripped_df['starNumeral'] = stripped_df['overall'].astype(int)\n",
        "stripped_df['starCounts'] = stripped_df['starNumeral'] - 1"
      ],
      "metadata": {
        "colab": {
          "base_uri": "https://localhost:8080/"
        },
        "id": "oiTCYvZtWUQ5",
        "outputId": "dfd6d3a9-4120-4362-eb16-2d6a1618b027"
      },
      "execution_count": null,
      "outputs": [
        {
          "output_type": "stream",
          "name": "stderr",
          "text": [
            "<ipython-input-4-e67300b3e72a>:1: DtypeWarning: Columns (1) have mixed types. Specify dtype option on import or set low_memory=False.\n",
            "  df = pd.read_csv(folder_path)\n",
            "<ipython-input-4-e67300b3e72a>:6: SettingWithCopyWarning: \n",
            "A value is trying to be set on a copy of a slice from a DataFrame.\n",
            "Try using .loc[row_indexer,col_indexer] = value instead\n",
            "\n",
            "See the caveats in the documentation: https://pandas.pydata.org/pandas-docs/stable/user_guide/indexing.html#returning-a-view-versus-a-copy\n",
            "  stripped_df['starNumeral'] = stripped_df['overall'].astype(int)\n",
            "<ipython-input-4-e67300b3e72a>:7: SettingWithCopyWarning: \n",
            "A value is trying to be set on a copy of a slice from a DataFrame.\n",
            "Try using .loc[row_indexer,col_indexer] = value instead\n",
            "\n",
            "See the caveats in the documentation: https://pandas.pydata.org/pandas-docs/stable/user_guide/indexing.html#returning-a-view-versus-a-copy\n",
            "  stripped_df['starCounts'] = stripped_df['starNumeral'] - 1\n"
          ]
        }
      ]
    },
    {
      "cell_type": "code",
      "source": [
        "X = stripped_df[['reviewText']]\n",
        "y = stripped_df[['starCounts']]"
      ],
      "metadata": {
        "id": "jqlX7q2aWY9S"
      },
      "execution_count": null,
      "outputs": []
    },
    {
      "cell_type": "code",
      "source": [
        "X_train, X_test, y_train, y_test = train_test_split(X, y, test_size=0.2, random_state=42)"
      ],
      "metadata": {
        "id": "YNYGq3YOopHM"
      },
      "execution_count": null,
      "outputs": []
    },
    {
      "cell_type": "code",
      "source": [
        "from imblearn import under_sampling, over_sampling\n",
        "from imblearn.over_sampling import RandomOverSampler\n",
        "from imblearn.under_sampling import RandomUnderSampler\n",
        "#undersampling majority class\n",
        "majority_class_len = len(np.where(y == 4)[0])\n",
        "undersample_amount = int(majority_class_len * 0.60)\n",
        "\n",
        "under_sampler = RandomUnderSampler(sampling_strategy={4: undersample_amount})\n",
        "X_undersampled, y_undersampled = under_sampler.fit_resample(X_train, y_train)\n",
        "\n",
        "\n",
        "class_0_amount = int(len(np.where(y_undersampled == 0)[0]) * 1.8)\n",
        "class_1_amount = int(len(np.where(y_undersampled == 1)[0]) * 3.5)\n",
        "class_2_amount = int(len(np.where(y_undersampled == 2)[0]) * 2.8)\n",
        "class_3_amount = int(len(np.where(y_undersampled == 3)[0]) * 1.8)\n",
        "\n",
        "\"\"\"\n",
        "class_0_num = int(y_train.value_counts()[4] * 0.6)\n",
        "class_1_num = int(y_train.value_counts()[4] * 0.6)\n",
        "class_2_num = int(y_train.value_counts()[4] * 0.6)\n",
        "class_3_num = int(y_train.value_counts()[4] * 0.6)\n",
        "\"\"\"\n",
        "over_sampler = RandomOverSampler(sampling_strategy= {0: class_0_amount, 1: class_1_amount, 2: class_2_amount, 3: class_3_amount})\n",
        "X_oversampled, y_oversampled = over_sampler.fit_resample(X_undersampled, y_undersampled)\n",
        "\n",
        "\n"
      ],
      "metadata": {
        "id": "Phg-xseiWjHS"
      },
      "execution_count": null,
      "outputs": []
    },
    {
      "cell_type": "code",
      "source": [
        "y_oversampled.value_counts()"
      ],
      "metadata": {
        "colab": {
          "base_uri": "https://localhost:8080/"
        },
        "id": "C3mbiO79YXVC",
        "outputId": "b5bf36d9-a309-417a-dd40-64325c4967d0"
      },
      "execution_count": null,
      "outputs": [
        {
          "output_type": "execute_result",
          "data": {
            "text/plain": [
              "starCounts\n",
              "4             104319\n",
              "3              74781\n",
              "0              73332\n",
              "2              67194\n",
              "1              62100\n",
              "Name: count, dtype: int64"
            ]
          },
          "metadata": {},
          "execution_count": 8
        }
      ]
    },
    {
      "cell_type": "code",
      "source": [
        "balanced_df = pd.concat([X_oversampled, y_oversampled], axis=1)"
      ],
      "metadata": {
        "id": "1HqY6oLrkIxd"
      },
      "execution_count": null,
      "outputs": []
    },
    {
      "cell_type": "code",
      "source": [
        "#balanced_df.to_csv(\"/content/drive/My Drive/266_project/data/\" + \"Electronics_data_balanced.csv\", index=False)\n",
        "#uncomment the above to regenerate data"
      ],
      "metadata": {
        "id": "NHlePNmTkH_f"
      },
      "execution_count": null,
      "outputs": []
    },
    {
      "cell_type": "code",
      "source": [
        "balanced_test_df = pd.concat([X_test, y_test], axis=1)"
      ],
      "metadata": {
        "id": "1oJIY3_9nejR"
      },
      "execution_count": null,
      "outputs": []
    },
    {
      "cell_type": "code",
      "source": [
        "#balanced_test_df.to_csv(\"/content/drive/My Drive/266_project/data/\" + \"Electronics_data_balanced_test.csv\", index=False)\n",
        "#uncomment the above to regenerate data"
      ],
      "metadata": {
        "id": "M3OdZPtW-yCY"
      },
      "execution_count": null,
      "outputs": []
    },
    {
      "cell_type": "markdown",
      "source": [
        "## Clothing, Shoes, and Jewelry Dataset"
      ],
      "metadata": {
        "id": "_04KC0ZJAQk0"
      }
    },
    {
      "cell_type": "code",
      "source": [
        "folder_path = '/content/drive/My Drive/266_project/data/Clothing_Shoes_and_Jewelry_data.csv'"
      ],
      "metadata": {
        "id": "_PWYFFbmAPA3"
      },
      "execution_count": null,
      "outputs": []
    },
    {
      "cell_type": "code",
      "source": [
        "df_2 = pd.read_csv(folder_path)\n",
        "stripped_df_2 = df_2.drop(columns=['vote', 'verified', 'reviewTime', 'reviewerID', 'asin','reviewerName'])\n",
        "stripped_df_2 = stripped_df_2.dropna()\n",
        "stripped_df_2['reviewLength'] = stripped_df_2['reviewText'].apply(lambda x: len(x.split()))\n",
        "stripped_df_2 = stripped_df_2[stripped_df_2['reviewLength'] > 1]\n",
        "stripped_df_2['starNumeral'] = stripped_df_2['overall'].astype(int)\n",
        "stripped_df_2['starCounts'] = stripped_df_2['starNumeral'] - 1"
      ],
      "metadata": {
        "colab": {
          "base_uri": "https://localhost:8080/"
        },
        "id": "yvHPlA4zArHA",
        "outputId": "3153826f-bdcf-4871-c66e-0eecd90b10ee"
      },
      "execution_count": null,
      "outputs": [
        {
          "output_type": "stream",
          "name": "stderr",
          "text": [
            "<ipython-input-14-7611c97ab2f7>:1: DtypeWarning: Columns (1) have mixed types. Specify dtype option on import or set low_memory=False.\n",
            "  df_2 = pd.read_csv(folder_path)\n",
            "<ipython-input-14-7611c97ab2f7>:6: SettingWithCopyWarning: \n",
            "A value is trying to be set on a copy of a slice from a DataFrame.\n",
            "Try using .loc[row_indexer,col_indexer] = value instead\n",
            "\n",
            "See the caveats in the documentation: https://pandas.pydata.org/pandas-docs/stable/user_guide/indexing.html#returning-a-view-versus-a-copy\n",
            "  stripped_df_2['starNumeral'] = stripped_df_2['overall'].astype(int)\n",
            "<ipython-input-14-7611c97ab2f7>:7: SettingWithCopyWarning: \n",
            "A value is trying to be set on a copy of a slice from a DataFrame.\n",
            "Try using .loc[row_indexer,col_indexer] = value instead\n",
            "\n",
            "See the caveats in the documentation: https://pandas.pydata.org/pandas-docs/stable/user_guide/indexing.html#returning-a-view-versus-a-copy\n",
            "  stripped_df_2['starCounts'] = stripped_df_2['starNumeral'] - 1\n"
          ]
        }
      ]
    },
    {
      "cell_type": "code",
      "source": [
        "X = stripped_df_2[['reviewText']]\n",
        "y = stripped_df_2[['starCounts']]"
      ],
      "metadata": {
        "id": "Sd2ehLc6BRgU"
      },
      "execution_count": null,
      "outputs": []
    },
    {
      "cell_type": "code",
      "source": [
        "X_train, X_test, y_train, y_test = train_test_split(X, y, test_size=0.2, random_state=42)"
      ],
      "metadata": {
        "id": "lzUc4FZYCXK-"
      },
      "execution_count": null,
      "outputs": []
    },
    {
      "cell_type": "code",
      "source": [
        "majority_class_len = len(np.where(y == 4)[0])\n",
        "undersample_amount = int(majority_class_len * 0.4)\n",
        "\n",
        "under_sampler = RandomUnderSampler(sampling_strategy={4: undersample_amount})\n",
        "X_undersampled, y_undersampled = under_sampler.fit_resample(X_train, y_train)\n",
        "\n",
        "class_0_amount = int(len(np.where(y_undersampled == 0)[0]) * 2.3)\n",
        "class_1_amount = int(len(np.where(y_undersampled == 1)[0]) * 3.5)\n",
        "class_2_amount = int(len(np.where(y_undersampled == 2)[0]) * 2.3)\n",
        "class_3_amount = int(len(np.where(y_undersampled == 3)[0]) * 1.3)\n",
        "\n",
        "\n",
        "over_sampler = RandomOverSampler(sampling_strategy={0: class_0_amount, 1: class_1_amount, 2: class_2_amount, 3: class_3_amount})\n",
        "X_oversampled, y_oversampled = over_sampler.fit_resample(X_undersampled, y_undersampled)\n",
        "\n",
        "\"\"\"\n",
        "class_0_num = int(y_train.value_counts()[4] * 0.6)\n",
        "class_1_num = int(y_train.value_counts()[4] * 0.6)\n",
        "class_2_num = int(y_train.value_counts()[4] * 0.6)\n",
        "class_3_num = int(y_train.value_counts()[4] * 0.6)\n",
        "\n",
        "over_sampler = RandomOverSampler(sampling_strategy= {0: class_0_num, 1: class_1_num, 2: class_2_num, 3: class_3_num})\n",
        "X_oversampled, y_oversampled = over_sampler.fit_resample(X_train, y_train)\n",
        "\"\"\""
      ],
      "metadata": {
        "id": "M_Ff2EANChR2",
        "colab": {
          "base_uri": "https://localhost:8080/",
          "height": 71
        },
        "outputId": "a8b0dff9-0e59-474c-c8c0-49a47a037bfe"
      },
      "execution_count": null,
      "outputs": [
        {
          "output_type": "execute_result",
          "data": {
            "text/plain": [
              "'\\nclass_0_num = int(y_train.value_counts()[4] * 0.6)\\nclass_1_num = int(y_train.value_counts()[4] * 0.6)\\nclass_2_num = int(y_train.value_counts()[4] * 0.6)\\nclass_3_num = int(y_train.value_counts()[4] * 0.6)\\n\\nover_sampler = RandomOverSampler(sampling_strategy= {0: class_0_num, 1: class_1_num, 2: class_2_num, 3: class_3_num})\\nX_oversampled, y_oversampled = over_sampler.fit_resample(X_train, y_train)\\n'"
            ],
            "application/vnd.google.colaboratory.intrinsic+json": {
              "type": "string"
            }
          },
          "metadata": {},
          "execution_count": 21
        }
      ]
    },
    {
      "cell_type": "code",
      "source": [
        "y_oversampled.value_counts()"
      ],
      "metadata": {
        "colab": {
          "base_uri": "https://localhost:8080/"
        },
        "id": "rgOYW6JNCmrW",
        "outputId": "15ed1b82-4f58-4f59-ed99-5e1726d141fb"
      },
      "execution_count": null,
      "outputs": [
        {
          "output_type": "execute_result",
          "data": {
            "text/plain": [
              "starCounts\n",
              "4             106445\n",
              "2              93685\n",
              "3              92249\n",
              "1              86758\n",
              "0              79255\n",
              "Name: count, dtype: int64"
            ]
          },
          "metadata": {},
          "execution_count": 22
        }
      ]
    },
    {
      "cell_type": "code",
      "source": [
        "balanced_df = pd.concat([X_oversampled, y_oversampled], axis=1)"
      ],
      "metadata": {
        "id": "jyI58G2QCo6h"
      },
      "execution_count": null,
      "outputs": []
    },
    {
      "cell_type": "code",
      "source": [
        "#balanced_df.to_csv(\"/content/drive/My Drive/266_project/data/\" + \"Clothing_data_balanced.csv\", index=False)\n",
        "#uncomment the above to regenerate data"
      ],
      "metadata": {
        "id": "iaWTcvKJCqwd"
      },
      "execution_count": null,
      "outputs": []
    },
    {
      "cell_type": "code",
      "source": [
        "balanced_test_df = pd.concat([X_test, y_test], axis=1)"
      ],
      "metadata": {
        "id": "NgywmUqiCtuu"
      },
      "execution_count": null,
      "outputs": []
    },
    {
      "cell_type": "code",
      "source": [
        "#balanced_test_df.to_csv(\"/content/drive/My Drive/266_project/data/\" + \"Clothing_data_balanced_test.csv\", index=False)\n",
        "#uncomment the above to regenerate data"
      ],
      "metadata": {
        "id": "vSM5kPKSCwgD"
      },
      "execution_count": null,
      "outputs": []
    },
    {
      "cell_type": "code",
      "source": [],
      "metadata": {
        "id": "TTHemNGrNsZH"
      },
      "execution_count": null,
      "outputs": []
    }
  ]
}